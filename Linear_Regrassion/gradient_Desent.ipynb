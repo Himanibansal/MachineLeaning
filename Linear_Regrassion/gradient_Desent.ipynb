{
 "cells": [
  {
   "cell_type": "markdown",
   "id": "a20faafd-770b-4a0f-a007-61d41522c145",
   "metadata": {},
   "source": [
    "# Gradient Desent"
   ]
  },
  {
   "cell_type": "code",
   "execution_count": 2,
   "id": "5fae8ff2-d8fb-4407-9ddb-c58d07919446",
   "metadata": {},
   "outputs": [],
   "source": [
    "import numpy as np"
   ]
  },
  {
   "cell_type": "code",
   "execution_count": 23,
   "id": "8bb1d8e2-363a-459f-863c-313b908e4e2e",
   "metadata": {},
   "outputs": [],
   "source": [
    "def stepGradient(points,m,c,learning_rate):\n",
    "    m_slope=0\n",
    "    c_slope=0\n",
    "    N=len(points);\n",
    "    for i in range(len(points)):\n",
    "        x=points[i,0]\n",
    "        y=points[i,1]\n",
    "        m_slope+=(-2/N)*(y-m-c)*(x)\n",
    "        c_slope+=(-2/N)*(y-m-c)\n",
    "    # m_slope*=(-2/N)\n",
    "    # c_slope*=(-2/N)\n",
    "    m=m-learning_rate*m_slope\n",
    "    c=c-learning_rate*c_slope\n",
    "    return m,c"
   ]
  },
  {
   "cell_type": "code",
   "execution_count": 22,
   "id": "191b9ceb-b824-4c15-8917-22bdedb9f5d6",
   "metadata": {},
   "outputs": [],
   "source": [
    "def gradientDescent(points,learning_rate,num_iteration):\n",
    "    m=0\n",
    "    c=0\n",
    "    for i in range(num_iteration):\n",
    "        m,c=stepGradient(points,m,c,learning_rate)\n",
    "        print(i,\" Cost: \",cost(points,m,c))\n",
    "    return m,c"
   ]
  },
  {
   "cell_type": "code",
   "execution_count": 12,
   "id": "c73f7965-27e4-49d4-9647-00723e3e79f3",
   "metadata": {},
   "outputs": [],
   "source": [
    "def cost(points,m,c):\n",
    "    total_cost=0\n",
    "    M=len(points)\n",
    "    for i in range(M):\n",
    "        x=points[i,0]\n",
    "        y=points[i,1]\n",
    "        total_cost+=(1/M)*((y-m*x-c)**2)\n",
    "    return total_cost"
   ]
  },
  {
   "cell_type": "code",
   "execution_count": 20,
   "id": "3ce2793c-5b05-4d95-857a-40c3124fdebd",
   "metadata": {},
   "outputs": [],
   "source": [
    "def run():\n",
    "    data=np.loadtxt(\"data.csv\",delimiter=\",\")\n",
    "    learning_rate=0.001\n",
    "    num_iteration=10\n",
    "    m,c=gradientDescent(data,learning_rate,num_iteration)\n",
    "    print(m,c)"
   ]
  },
  {
   "cell_type": "code",
   "execution_count": 24,
   "id": "66af616c-43b4-41a0-ba2a-0c59f17a8169",
   "metadata": {},
   "outputs": [
    {
     "name": "stdout",
     "output_type": "stream",
     "text": [
      "0  Cost:  86648.79500400844\n",
      "1  Cost:  391281.82027390774\n",
      "2  Cost:  853196.8109412676\n",
      "3  Cost:  1421086.476986506\n",
      "4  Cost:  2055525.8600199004\n",
      "5  Cost:  2726502.6169744274\n",
      "6  Cost:  3411437.5341928755\n",
      "7  Cost:  4093600.069268471\n",
      "8  Cost:  4760842.005152981\n",
      "9  Cost:  5404587.095121874\n",
      "48.040536221847944 0.9304493156968512\n"
     ]
    }
   ],
   "source": [
    "run()"
   ]
  },
  {
   "cell_type": "code",
   "execution_count": 35,
   "id": "ae03ab96-48c3-4ba9-b332-39fa66d6f1d5",
   "metadata": {},
   "outputs": [],
   "source": [
    "point=np.loadtxt(\"data.csv\",delimiter=\",\")\n",
    "for i in range(len(point)):\n",
    "        x=point[0]\n",
    "        y=point[1]\n",
    "# here x and y are row 1 and 2 respectively"
   ]
  },
  {
   "cell_type": "code",
   "execution_count": null,
   "id": "e0d47de3-10db-446c-8fe8-bfa2f61ce3c1",
   "metadata": {},
   "outputs": [],
   "source": [
    "point=np.loadtxt(\"data.csv\",delimiter=\",\")\n",
    "for i in range(len(point)):\n",
    "        x=point[i,0]\n",
    "        y=point[i,1]\n",
    "# here x and y are repecenting 0th ans 1st element  of ith row respectively"
   ]
  },
  {
   "cell_type": "code",
   "execution_count": null,
   "id": "0c2ae476-8c2e-4992-b977-6d49648c0b89",
   "metadata": {},
   "outputs": [],
   "source": []
  }
 ],
 "metadata": {
  "kernelspec": {
   "display_name": "Python 3 (ipykernel)",
   "language": "python",
   "name": "python3"
  },
  "language_info": {
   "codemirror_mode": {
    "name": "ipython",
    "version": 3
   },
   "file_extension": ".py",
   "mimetype": "text/x-python",
   "name": "python",
   "nbconvert_exporter": "python",
   "pygments_lexer": "ipython3",
   "version": "3.10.8"
  }
 },
 "nbformat": 4,
 "nbformat_minor": 5
}
