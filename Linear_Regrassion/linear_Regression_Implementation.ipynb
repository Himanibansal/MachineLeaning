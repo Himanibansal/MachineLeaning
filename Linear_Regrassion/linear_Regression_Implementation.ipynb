{
 "cells": [
  {
   "cell_type": "code",
   "execution_count": 40,
   "id": "778b1185-49aa-4baa-bcd7-b6c3014a69e3",
   "metadata": {},
   "outputs": [],
   "source": [
    "import numpy as np"
   ]
  },
  {
   "cell_type": "code",
   "execution_count": 2,
   "id": "8dd35216-8090-4e38-9dc9-6d700336fd7c",
   "metadata": {},
   "outputs": [],
   "source": [
    "data=np.loadtxt(\"data.csv\",delimiter=\",\")"
   ]
  },
  {
   "cell_type": "code",
   "execution_count": 3,
   "id": "e8198ff9-2178-467d-8006-64f887d85789",
   "metadata": {},
   "outputs": [],
   "source": [
    "x=data[:,0]\n",
    "y=data[:,1]"
   ]
  },
  {
   "cell_type": "code",
   "execution_count": 39,
   "id": "5b47c3d4-5f62-4dd3-92b4-24d1de25c9cc",
   "metadata": {},
   "outputs": [],
   "source": [
    "from sklearn import model_selection\n",
    "X_train,X_test,Y_train,Y_test = model_selection.train_test_split(x, y,test_size=0.25,random_state=0)"
   ]
  },
  {
   "cell_type": "code",
   "execution_count": 7,
   "id": "0fac372d-71da-4bcd-9513-dd8e3babe490",
   "metadata": {},
   "outputs": [],
   "source": [
    "def fit (x,y):\n",
    "    m = ((x*y).mean() - (x.mean()*y.mean())) / ((x*x).mean()-(x.mean()*x.mean()))\n",
    "    c = y.mean() - (m*x.mean())\n",
    "    return m,c"
   ]
  },
  {
   "cell_type": "code",
   "execution_count": 8,
   "id": "b959e265-87e6-4940-89ef-0a98fa78e9f6",
   "metadata": {},
   "outputs": [],
   "source": [
    "def pred (x,m,c):\n",
    "    y=m*x+c\n",
    "    return y"
   ]
  },
  {
   "cell_type": "code",
   "execution_count": 9,
   "id": "6a4efadc-5519-44f0-8d47-19c9834f1184",
   "metadata": {},
   "outputs": [],
   "source": [
    "def CD (Y_pred,Y_test):\n",
    "    u=np.sum(pow(Y_test-Y_pred,2));\n",
    "    v=np.sum(pow(Y_test-Y_test.mean(),2));\n",
    "    score=1-(u/v)\n",
    "    return score"
   ]
  },
  {
   "cell_type": "code",
   "execution_count": 35,
   "id": "4dbfa448-abd0-4719-80a8-88e46ea06773",
   "metadata": {},
   "outputs": [],
   "source": [
    "def cost(x,y,m,c):\n",
    "    return np.mean(pow(y-(m*x+c),2))"
   ]
  },
  {
   "cell_type": "code",
   "execution_count": 15,
   "id": "2e75c248-d9d8-4a7c-9913-f4113a1e7870",
   "metadata": {},
   "outputs": [
    {
     "data": {
      "text/plain": [
       "(1.3789314755001618, 5.214601913428666)"
      ]
     },
     "execution_count": 15,
     "metadata": {},
     "output_type": "execute_result"
    }
   ],
   "source": [
    "m,c=fit(X_train,Y_train)\n",
    "(m,c)"
   ]
  },
  {
   "cell_type": "code",
   "execution_count": 19,
   "id": "32463233-086a-4152-b6ba-07b5b2a4a935",
   "metadata": {},
   "outputs": [
    {
     "data": {
      "text/plain": [
       "array([ 74.92890978,  72.72141757,  66.56720132,  62.74455572,\n",
       "        70.68793496,  80.06621353,  48.77245069,  75.66244583,\n",
       "        51.60834601,  77.44089004, 102.21701976,  64.9475453 ,\n",
       "        60.60200323,  50.84872814,  69.66257641,  79.20935041,\n",
       "        67.84529742,  66.58055239,  39.86506033,  81.25190115,\n",
       "        88.32171864,  81.16352197, 100.03783733,  84.50941287,\n",
       "        70.68025573])"
      ]
     },
     "execution_count": 19,
     "metadata": {},
     "output_type": "execute_result"
    }
   ],
   "source": [
    "Y_pred=pred(X_test,m,c)\n",
    "Y_pred"
   ]
  },
  {
   "cell_type": "code",
   "execution_count": 21,
   "id": "93d243d2-366a-4310-a01d-9de3d79676d6",
   "metadata": {},
   "outputs": [
    {
     "data": {
      "text/plain": [
       "0.5808439097028553"
      ]
     },
     "execution_count": 21,
     "metadata": {},
     "output_type": "execute_result"
    }
   ],
   "source": [
    "score=CD(Y_pred,Y_test)\n",
    "score"
   ]
  },
  {
   "cell_type": "code",
   "execution_count": 37,
   "id": "dcd94583-f2b0-4fcf-b27e-73fa56e0f18b",
   "metadata": {},
   "outputs": [
    {
     "data": {
      "text/plain": [
       "98.46803030511751"
      ]
     },
     "execution_count": 37,
     "metadata": {},
     "output_type": "execute_result"
    }
   ],
   "source": [
    "COST=cost(X_train,Y_train,m,c)\n",
    "COST"
   ]
  },
  {
   "cell_type": "code",
   "execution_count": null,
   "id": "68e7f7b3-34bd-4c19-81e2-652a295c7a29",
   "metadata": {},
   "outputs": [],
   "source": []
  }
 ],
 "metadata": {
  "kernelspec": {
   "display_name": "Python 3 (ipykernel)",
   "language": "python",
   "name": "python3"
  },
  "language_info": {
   "codemirror_mode": {
    "name": "ipython",
    "version": 3
   },
   "file_extension": ".py",
   "mimetype": "text/x-python",
   "name": "python",
   "nbconvert_exporter": "python",
   "pygments_lexer": "ipython3",
   "version": "3.10.8"
  }
 },
 "nbformat": 4,
 "nbformat_minor": 5
}
