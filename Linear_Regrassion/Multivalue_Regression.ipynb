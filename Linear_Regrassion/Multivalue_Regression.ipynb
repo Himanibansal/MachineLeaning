{
 "cells": [
  {
   "cell_type": "code",
   "execution_count": null,
   "id": "5fae8ff2-d8fb-4407-9ddb-c58d07919446",
   "metadata": {},
   "outputs": [],
   "source": [
    "import numpy as np"
   ]
  },
  {
   "cell_type": "code",
   "execution_count": 36,
   "id": "8bb1d8e2-363a-459f-863c-313b908e4e2e",
   "metadata": {},
   "outputs": [],
   "source": [
    "def stepGradient(points,m,c,learning_rate):\n",
    "    m_slope=0\n",
    "    c_slope=0\n",
    "    N=0;\n",
    "    for i in range(len(points)):\n",
    "        x=points[0]\n",
    "        y=points[1]\n",
    "        m_slope+=(y-m-c)*(x)\n",
    "        c_slope+=(y-m-c)\n",
    "        N+=1\n",
    "    m_slope*=(-2/N)\n",
    "    c_slope*=(-2/N)\n",
    "    m=m-learning_rate*m_slope\n",
    "    c=c-learning_rate*c_slope\n",
    "    return m,c"
   ]
  },
  {
   "cell_type": "code",
   "execution_count": 29,
   "id": "191b9ceb-b824-4c15-8917-22bdedb9f5d6",
   "metadata": {},
   "outputs": [],
   "source": [
    "def gradientDescent(points,learning_rate,num_iteration):\n",
    "    m,c=0,0\n",
    "    for i in range(num_iteration):\n",
    "        m,c=stepGradient(points,m,c,learning_rate)\n",
    "    return m,c"
   ]
  },
  {
   "cell_type": "code",
   "execution_count": 34,
   "id": "3ce2793c-5b05-4d95-857a-40c3124fdebd",
   "metadata": {},
   "outputs": [],
   "source": [
    "def run():\n",
    "    data=np.loadtxt(\"data.csv\",delimiter=\",\")\n",
    "    learning_rate=0.001\n",
    "    num_iteration=1000\n",
    "    m,c=gradientDescent(data,learning_rate,num_iteration)\n",
    "    return m,c"
   ]
  },
  {
   "cell_type": "code",
   "execution_count": 37,
   "id": "55c5b547-42e9-421e-b590-cec26ac3140a",
   "metadata": {},
   "outputs": [
    {
     "data": {
      "text/plain": [
       "(array([51.83208571, 66.67475611]), array([1.59471833, 2.10283987]))"
      ]
     },
     "execution_count": 37,
     "metadata": {},
     "output_type": "execute_result"
    }
   ],
   "source": [
    "run()"
   ]
  },
  {
   "cell_type": "code",
   "execution_count": null,
   "id": "eace4eec-13fb-423d-a2f2-83da44bbe09a",
   "metadata": {},
   "outputs": [],
   "source": []
  }
 ],
 "metadata": {
  "kernelspec": {
   "display_name": "Python 3 (ipykernel)",
   "language": "python",
   "name": "python3"
  },
  "language_info": {
   "codemirror_mode": {
    "name": "ipython",
    "version": 3
   },
   "file_extension": ".py",
   "mimetype": "text/x-python",
   "name": "python",
   "nbconvert_exporter": "python",
   "pygments_lexer": "ipython3",
   "version": "3.10.8"
  }
 },
 "nbformat": 4,
 "nbformat_minor": 5
}
